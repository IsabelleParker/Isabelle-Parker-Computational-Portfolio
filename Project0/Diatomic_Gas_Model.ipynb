{
 "cells": [
  {
   "cell_type": "markdown",
   "metadata": {},
   "source": [
    "# Ideal Diatomic Gas Model\n",
    "Code by Scott Colton <br/>\n",
    "Writeup by Isabelle Parker <br/>\n",
    "\n",
    "The main question that this project seeks to answer is how diatomic ideal gas molecules interact differently (rotational motion, particle-wall collisions, particle-particle collisions) than the monatomic particles that were discussed and simulated in prior classes. <br/>\n",
    "\n",
    "#### We seek to find an answer through this project by doing the following: \n",
    "- Creating structally diatomic molecules.\n",
    "- Giving each diatom a random rotational velocity vector $\\vec{\\omega}$ and a random translational motion vector $\\vec{s}$. \n",
    "- Modelling each diatom as a rotor in order to make physically accurate particle-wall collisions.\n",
    "- (Potentially) Model molecule-molecule collisions as rotor-rotor collisions."
   ]
  },
  {
   "cell_type": "markdown",
   "metadata": {},
   "source": [
    "# Constructing Diatoms\n",
    "\n",
    "For the creation of diatoms, there were several options that we could've taken. <br/>\n",
    "\n",
    "The first option that we went for is the one that most people would probably think of: two spheres connected to each other. <br/>\n",
    "This option ended up giving us a hard time figuring out the math needed to calculate the vectors needed to calculate forces needed to perform collisions, so we went for a modified option. <br/>\n",
    "\n",
    "The modification we made to the two-sphere model was an added cylinder; positioned at the center of mass for the diatoms, and extending to the centerpoint of one of the atoms. The process of building the diatoms is shown in the first for loop of in the main cell."
   ]
  },
  {
   "cell_type": "markdown",
   "metadata": {},
   "source": [
    "# Giving Rotational and Translation Motions\n",
    "\n",
    "Each diatom is given a random rotational and translational motion vector shortly after creation. <br/>\n",
    "The speeds given for each direction is a random value between -1 and 1 multiplied by the root mean speed of an ideal gas, which is the following: <br/>\n",
    "\n",
    "$$ s = \\sqrt{\\frac{3k_{b}T}{m}} $$\n",
    "\n"
   ]
  },
  {
   "cell_type": "markdown",
   "metadata": {},
   "source": [
    "## Diatom - Wall Collisions\n",
    "\n",
    "In order to accurately model the diatom-wall collision, we must treat them as rotors, which is quite commonplace in physical chemistry models of diatoms. <br/>\n",
    "\n",
    "This is where the spheres that were attached to the mathematical \"diatom\" that was mentioned in the *Constructing Diatoms* cell. <br/>\n",
    "When one of the spheres touches the wall (position comes within one radius of the wall), the *calc_wall* function is called. <br/> \n",
    "This function will find the force that is imparted on the diatom by the wall. One of the vectors needed ($\\vec{r}_{col}) was easy to visualize, but hard to figure out the math for. <br/>\n",
    "This vector was made trivial to calculate with the following equivalency:\n",
    "\n",
    "$$ \\vec{r}_{col} = \\vec{r}_{cm->col.atom} + \\vec{r}_{col.atom->wall} $$\n",
    "\n",
    "Now that we knew the vector from the center of mass to the point of impact, the torque and force exerted on the diatom were much easier to find.\n",
    "\n",
    "The torque exerted on a diatom as it collides against a wall is the following: <br/>\n",
    "\n",
    "$$ \\vec{\\tau_{cm}} = \\vec{r_{col}} \\times \\vec{F} $$\n",
    "<br/>\n",
    "with $\\vec{r_{col}}$ being the vector pointing from the diatom's center of mass to the point of collision with the wall.\n",
    "<br/>\n",
    "\n",
    "The force imparted on a atom in this case is calculated in the *calc_wall* function, where: <br/>\n",
    "\n",
    "$$ \\vec{F} = -\\frac{2\\vec{v}_{particle}}{dt}  m_{particle} $$ <br/>\n",
    "\n",
    "Being the force required to send the colliding atom back in opposite direction, giving the diatom an overal negative $\\omega$ from before impact. <br/>\n",
    "\n",
    "\n",
    "\n",
    "The resultant change in the diatom's anuglar momentum is: <br/>\n",
    "\n",
    "$$ \\Delta\\vec{L} = \\vec{\\tau_{cm}}\\Delta t $$ <br/>\n",
    "$$ \\vec{L_{f}} = \\vec{L_{i}} + \\Delta\\vec{L} $$ <br/>\n",
    "\n",
    "With this, we now have working diatom-wall collisions!"
   ]
  },
  {
   "cell_type": "markdown",
   "metadata": {},
   "source": [
    "# Ability of the program to simulate reality\n",
    "\n",
    "While this program is able to simulate diatom-wall collisions, it is not able to do so perfectly, and are assuming completely elastic collisions. <br/> \n",
    "This is due to the lack of friction of the wall. <br/>\n",
    "\n",
    "As much as we wanted to also simulate diatom-diatom collisions, we were unable to do so within the time span of this project. However, the program already includes a scalable number of particles, which would allow for the simulation of multi-diatom collisions once the physics and math of these types of collisions are implemented in the future."
   ]
  },
  {
   "cell_type": "code",
   "execution_count": 1,
   "metadata": {},
   "outputs": [
    {
     "data": {
      "text/html": [
       "<div id=\"glowscript\" class=\"glowscript\"></div>"
      ],
      "text/plain": [
       "<IPython.core.display.HTML object>"
      ]
     },
     "metadata": {},
     "output_type": "display_data"
    },
    {
     "data": {
      "application/javascript": [
       "if (typeof Jupyter !== \"undefined\") { window.__context = { glowscript_container: $(\"#glowscript\").removeAttr(\"id\")};}else{ element.textContent = ' ';}"
      ],
      "text/plain": [
       "<IPython.core.display.Javascript object>"
      ]
     },
     "metadata": {},
     "output_type": "display_data"
    }
   ],
   "source": [
    "from vpython import *\n",
    "import numpy as np\n",
    "import random as rand\n",
    "import matplotlib.pyplot as plt"
   ]
  },
  {
   "cell_type": "code",
   "execution_count": 4,
   "metadata": {},
   "outputs": [],
   "source": [
    "def calc_wall(j, i, dire):\n",
    "    if dire == 1:\n",
    "        rcol = axes[j].pos - (particles[j][i].pos + R * vec(1,0,0))\n",
    "        Fhat = vec(-1,0,0)\n",
    "        \n",
    "    if dire == -1:\n",
    "        rcol = axes[j].pos - (particles[j][i].pos - R * vec(1,0,0))\n",
    "        Fhat = vec(1,0,0)\n",
    "        \n",
    "    if dire == 2:\n",
    "        rcol = axes[j].pos - (particles[j][i].pos + R * vec(0,1,0))\n",
    "        Fhat = vec(0,-1,0)\n",
    "        \n",
    "    if dire == -2:\n",
    "        rcol = axes[j].pos - (particles[j][i].pos -R * vec(0,1,0))\n",
    "        Fhat = vec(0,1,0)\n",
    "        \n",
    "    if dire == 3:\n",
    "        rcol = axes[j].pos - (particles[j][i].pos + R * vec(0,0,1))\n",
    "        Fhat = vec(0,0,-1)\n",
    "        \n",
    "    if dire == -3:\n",
    "        rcol = axes[j].pos - (particles[j][i].pos - R * vec(0,0,1))\n",
    "        Fhat = vec(0,0,1)\n",
    "           \n",
    "    Fmag = -(mag(rcol) * mag(omega[j])) * m / dt  #This is the force that would be required to drop the velocity to 0\n",
    "                                                  #and send the particle back at the same speed in the other direction\n",
    "    F = Fmag * Fhat\n",
    "    tau = cross(rcol,F)\n",
    "    dL = tau * dt\n",
    "    Li = I * omega[j]\n",
    "    Lf = Li + dL\n",
    "    omegaf = Lf/I\n",
    "    \n",
    "    return(omegaf)\n",
    "\n"
   ]
  },
  {
   "cell_type": "code",
   "execution_count": 5,
   "metadata": {},
   "outputs": [
    {
     "data": {
      "text/html": [
       "<div id=\"glowscript\" class=\"glowscript\"></div>"
      ],
      "text/plain": [
       "<IPython.core.display.HTML object>"
      ]
     },
     "metadata": {},
     "output_type": "display_data"
    },
    {
     "data": {
      "application/javascript": [
       "if (typeof Jupyter !== \"undefined\") { window.__context = { glowscript_container: $(\"#glowscript\").removeAttr(\"id\")};}else{ element.textContent = ' ';}"
      ],
      "text/plain": [
       "<IPython.core.display.Javascript object>"
      ]
     },
     "metadata": {},
     "output_type": "display_data"
    }
   ],
   "source": [
    "scene = canvas(title = \"Diatoms in a Box\")\n",
    "\n",
    "R = .5e-10  #radius of an atom\n",
    "m = 1.7e-27 #mass of an atom\n",
    "L = 40 * R\n",
    "thick = L/100 #Thickness and positions of wall\n",
    "Q = 3 * R\n",
    "k = 1.4e-23\n",
    "T = 300\n",
    "s =  np.sqrt(2*3/2*k*T/m) #I like this as an initial speed\n",
    "\n",
    "N = 2 #number of particles\n",
    "\n",
    "particles = []\n",
    "molecules = []\n",
    "vcm = []\n",
    "omega = []\n",
    "axes = []\n",
    "I = 2 * m * R**2\n",
    "omegaf = 0\n",
    "\n",
    "\n",
    "#The next loop in the code creates 2 particles that are touching and coupled in an array. The molecules have a random\n",
    "#position and axis. The loop also assigns the diatoms a random center of mass velocity and angular velocity\n",
    "\n",
    "for i in range(0,N):\n",
    "    if i == 0:\n",
    "        atom1 = sphere(pos = L/2*vec(rand.uniform(-0.9,0.9),rand.uniform(-0.9,0.9),rand.uniform(-0.9,0.9)), radius = R, color = color.cyan, make_trail = True, retain = 50)\n",
    "        r2 = rand.random()*R\n",
    "        r3 = rand.random()*R\n",
    "        r4 = abs((2*R)**2 - r2**2 - r3**2)\n",
    "        a = np.sqrt(r4)\n",
    "        atom2 = sphere(pos = atom1.pos - vec(r2,a,r3), radius = R, color = color.cyan, make_trail = True, retain = 50)\n",
    "        particles.append([atom1,atom2])\n",
    "        rod = cylinder(pos = vec((particles[i][1].pos.x + particles[i][0].pos.x)/2,(particles[i][1].pos.y + particles[i][0].pos.y)/2,(particles[i][1].pos.z + particles[i][0].pos.z)/2), axis = particles[i][0].pos - particles[i][1].pos, radius = R/4, visible = False)\n",
    "        axes.append(rod)\n",
    "        vcm.append(s*hat(vec(rand.uniform(-1,1), rand.uniform(-1,1), rand.uniform(-1,1))))\n",
    "        omega.append(360*hat(vec(rand.uniform(-1,1), rand.uniform(-1,1), rand.uniform(-1,1))))\n",
    "    else:\n",
    "        atom1 = sphere(pos = L/2*vec(rand.uniform(-0.9,0.9),rand.uniform(-0.9,0.9),rand.uniform(-0.9,0.9)), radius = R, color = color.red)\n",
    "        r2 = rand.random()*R\n",
    "        r3 = rand.random()*R\n",
    "        r4 = abs((2*R)**2 - r2**2 - r3**2)\n",
    "        a = np.sqrt(r4)\n",
    "        atom2 = sphere(pos = atom1.pos - vec(r2,a,r3), radius = R, color = color.red)\n",
    "        particles.append([atom1,atom2])\n",
    "        rod = cylinder(pos = vec((particles[i][1].pos.x + particles[i][0].pos.x)/2,(particles[i][1].pos.y + particles[i][0].pos.y)/2,(particles[i][1].pos.z + particles[i][0].pos.z)/2), axis = particles[i][0].pos - particles[i][1].pos, radius = R/4, visible = False)\n",
    "        axes.append(rod)\n",
    "        vcm.append(s*hat(vec(rand.uniform(-1,1), rand.uniform(-1,1), rand.uniform(-1,1))))\n",
    "        omega.append(360*hat(vec(rand.uniform(-1,1), rand.uniform(-1,1), rand.uniform(-1,1))))\n",
    "    \n",
    "#Creating the walls of the box\n",
    "\n",
    "Lwall = box(pos = vec(-L/2, 0, 0), size = vec(thick, L, L), color=color.white)\n",
    "Rwall = box(pos = vec(L/2, 0, 0), size = vec(thick, L, L), color=color.white)\n",
    "Bwall = box(pos = vec(0, -L/2, 0), size = vec(L, thick, L), color=color.white)\n",
    "Twall = box(pos = vec(0, L/2, 0), size = vec(L, thick, L), color=color.white)\n",
    "Zwall = box(pos = vec(0, 0, -L/2), size = vec(L, L, thick), color=color.white)\n",
    "\n",
    "#Adding in the motion and the time steps\n",
    "\n",
    "dt = R/s/10\n",
    "Nstep = 3e3\n",
    "t = 0\n",
    "\n",
    "scene.pause()\n",
    "\n",
    "while t < dt * Nstep:\n",
    "    rate(100)\n",
    "    for j in range(N):\n",
    "        \n",
    "        axes[j].pos = axes[j].pos + vcm[j] * dt\n",
    "        \n",
    "        #Do the actual math to figure out what the change in axis and fix the check collisions with the walls with the new\n",
    "        #rod\n",
    "        \n",
    "        dtheta = omega[j] * dt / R\n",
    "        \n",
    "        Rx = [[1, 0, 0], [0, np.cos(dtheta.x), -np.sin(dtheta.x)], [0, np.sin(dtheta.x), np.cos(dtheta.x)]]\n",
    "        Ry = [[np.cos(dtheta.y), 0, np.sin(dtheta.y)], [0, 1, 0], [-np.sin(dtheta.y), 0, np.cos(dtheta.y)]]\n",
    "        Rz = [[np.cos(dtheta.z), -np.sin(dtheta.z), 0], [np.sin(dtheta.z), np.cos(dtheta.z), 0], [0, 0, 1]]\n",
    "        \n",
    "        \n",
    "        newaxis = np.array([axes[j].axis.x, axes[j].axis.y, axes[j].axis.z])\n",
    "        newaxis = np.dot(Rx,newaxis)\n",
    "        newaxis = np.dot(Ry,newaxis)\n",
    "        newaxis = np.dot(Rz,newaxis)\n",
    "        axes[j].axis.x = newaxis[0]\n",
    "        axes[j].axis.y = newaxis[1]\n",
    "        axes[j].axis.z = newaxis[2]\n",
    "        \n",
    "        particles[j][0].pos = axes[j].pos - axes[j].axis/2\n",
    "        particles[j][1].pos = axes[j].pos + axes[j].axis/2\n",
    "        \n",
    "        \n",
    "        \n",
    "        \n",
    "        #Checking the center of mass collisions with the walls this is being done separate from the individual particles\n",
    "        \n",
    "        #This is checking to see if the individual particles are hitting the walls separate to the center of mass\n",
    "        \n",
    "        for i in range(0,1):\n",
    "            if particles[j][i].pos.x  > L/2 - R:\n",
    "                d = 1\n",
    "                omega[j] = calc_wall(j,i,d)\n",
    "                \n",
    "            if particles[j][i].pos.x  < -L/2 + R:\n",
    "                d = -1\n",
    "                omega[j] = calc_wall(j,i,d)\n",
    "            \n",
    "            if particles[j][i].pos.y > L/2 - R:\n",
    "                d = 2\n",
    "                omega[j] = calc_wall(j,i,d)\n",
    "                \n",
    "            if particles[j][i].pos.y < -L/2 + R:\n",
    "                d = -2\n",
    "                omega[j] = calc_wall(j,i,d)\n",
    "                        \n",
    "            if particles[j][i].pos.z > L/2 - R:\n",
    "                d = 3\n",
    "                omega[j] = calc_wall(j,i,d)\n",
    "                \n",
    "            if particles[j][i].pos.z < -L/2 + R:\n",
    "                d = -3\n",
    "                omega[j] = calc_wall(j,i,d)\n",
    "                    \n",
    "        #This is testing to see if the center of mass is colliding with the wall\n",
    "        \n",
    "        if axes[j].pos.x > L/2:\n",
    "            vcm[j].x = -vcm[j].x\n",
    "            \n",
    "        if axes[j].pos.x < -L/2:\n",
    "            vcm[j].x = abs(vcm[j].x)\n",
    "            \n",
    "        if axes[j].pos.y > L/2:\n",
    "            vcm[j].y = -vcm[j].y\n",
    "            \n",
    "        if axes[j].pos.y < -L/2:\n",
    "            vcm[j].y = abs(vcm[j].y)\n",
    "            \n",
    "        if axes[j].pos.z > L/2:\n",
    "            vcm[j].z = -vcm[j].z\n",
    "            \n",
    "        if axes[j].pos.z < -L/2:\n",
    "            vcm[j].z = abs(vcm[j].z)\n",
    "        \n",
    "    t = t + dt\n",
    "    \n",
    "    \n",
    "#The simulation looks very weird and I think it is because there is no friction from the walls that would cause the\n",
    "#motion that we would expect to see from diatoms in a box\n",
    "\n",
    "\n",
    "#It is also glitching a bit from having the new omega be calculated multiple times in a row which could be fixed\n",
    "#With some sort of timer that only lets particles hit certain walls once in n number of time steps\n"
   ]
  },
  {
   "cell_type": "code",
   "execution_count": null,
   "metadata": {},
   "outputs": [],
   "source": []
  }
 ],
 "metadata": {
  "kernelspec": {
   "display_name": "Python 3",
   "language": "python",
   "name": "python3"
  },
  "language_info": {
   "codemirror_mode": {
    "name": "ipython",
    "version": 3
   },
   "file_extension": ".py",
   "mimetype": "text/x-python",
   "name": "python",
   "nbconvert_exporter": "python",
   "pygments_lexer": "ipython3",
   "version": "3.8.8"
  }
 },
 "nbformat": 4,
 "nbformat_minor": 2
}
